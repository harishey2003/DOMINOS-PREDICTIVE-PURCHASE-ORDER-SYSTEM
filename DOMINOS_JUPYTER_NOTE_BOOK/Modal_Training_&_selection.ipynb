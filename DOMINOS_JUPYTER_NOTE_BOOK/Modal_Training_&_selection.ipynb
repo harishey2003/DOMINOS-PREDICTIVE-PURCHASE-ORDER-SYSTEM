{
 "cells": [
  {
   "cell_type": "markdown",
   "id": "8f9daa2c",
   "metadata": {},
   "source": [
    "# 1. MODEL TRAINING & SELECTION"
   ]
  },
  {
   "cell_type": "code",
   "execution_count": 1,
   "id": "8dfec02d",
   "metadata": {},
   "outputs": [
    {
     "name": "stdout",
     "output_type": "stream",
     "text": [
      "<class 'pandas.core.frame.DataFrame'>\n",
      "RangeIndex: 187372 entries, 0 to 187371\n",
      "Data columns (total 19 columns):\n",
      " #   Column              Non-Null Count   Dtype  \n",
      "---  ------              --------------   -----  \n",
      " 0   pizza_id            187372 non-null  float64\n",
      " 1   order_id            187372 non-null  float64\n",
      " 2   pizza_name_id       187372 non-null  object \n",
      " 3   quantity            187372 non-null  float64\n",
      " 4   order_date          187372 non-null  object \n",
      " 5   order_time          187372 non-null  object \n",
      " 6   unit_price          187372 non-null  float64\n",
      " 7   total_price         187372 non-null  float64\n",
      " 8   pizza_size          187372 non-null  object \n",
      " 9   pizza_category      187372 non-null  object \n",
      " 10  pizza_ingredients   187372 non-null  object \n",
      " 11  pizza_name          187372 non-null  object \n",
      " 12  Items_Qty_In_Grams  187372 non-null  float64\n",
      " 13  day_of_week         187372 non-null  int64  \n",
      " 14  month               187372 non-null  int64  \n",
      " 15  year                187372 non-null  int64  \n",
      " 16  week                187372 non-null  int64  \n",
      " 17  holiday             187372 non-null  int64  \n",
      " 18  promotion           187372 non-null  int64  \n",
      "dtypes: float64(6), int64(6), object(7)\n",
      "memory usage: 27.2+ MB\n"
     ]
    }
   ],
   "source": [
    "import pandas as pd\n",
    "df=pd.read_csv(r\"C:\\Users\\Lenovo\\project 5\\final_mdata.csv\")\n",
    "df.info()"
   ]
  },
  {
   "cell_type": "code",
   "execution_count": 2,
   "id": "06cb24f2",
   "metadata": {},
   "outputs": [],
   "source": [
    "pizza_sale=df"
   ]
  },
  {
   "cell_type": "markdown",
   "id": "6a16c202",
   "metadata": {},
   "source": [
    "ARIMA / SARIMA ARIMA (AutoRegressive Integrated Moving Average) and SARIMA (Seasonal ARIMA) are great starting points for this data shows seasonal patterns and trends."
   ]
  },
  {
   "cell_type": "code",
   "execution_count": 3,
   "id": "960171e8",
   "metadata": {},
   "outputs": [
    {
     "name": "stdout",
     "output_type": "stream",
     "text": [
      "Requirement already satisfied: pmdarima in c:\\users\\lenovo\\anaconda3\\lib\\site-packages (2.0.4)Note: you may need to restart the kernel to use updated packages.\n",
      "Requirement already satisfied: statsmodels>=0.13.2 in c:\\users\\lenovo\\anaconda3\\lib\\site-packages (from pmdarima) (0.13.2)\n",
      "Requirement already satisfied: pandas>=0.19 in c:\\users\\lenovo\\anaconda3\\lib\\site-packages (from pmdarima) (1.4.2)\n",
      "Requirement already satisfied: scikit-learn>=0.22 in c:\\users\\lenovo\\anaconda3\\lib\\site-packages (from pmdarima) (1.0.2)\n",
      "Requirement already satisfied: setuptools!=50.0.0,>=38.6.0 in c:\\users\\lenovo\\anaconda3\\lib\\site-packages (from pmdarima) (61.2.0)\n",
      "Requirement already satisfied: Cython!=0.29.18,!=0.29.31,>=0.29 in c:\\users\\lenovo\\anaconda3\\lib\\site-packages (from pmdarima) (0.29.28)\n",
      "Requirement already satisfied: joblib>=0.11 in c:\\users\\lenovo\\anaconda3\\lib\\site-packages (from pmdarima) (1.1.0)\n",
      "Requirement already satisfied: scipy>=1.3.2 in c:\\users\\lenovo\\anaconda3\\lib\\site-packages (from pmdarima) (1.7.3)\n",
      "Requirement already satisfied: packaging>=17.1 in c:\\users\\lenovo\\anaconda3\\lib\\site-packages (from pmdarima) (21.3)\n",
      "Requirement already satisfied: urllib3 in c:\\users\\lenovo\\anaconda3\\lib\\site-packages (from pmdarima) (1.26.9)\n",
      "Requirement already satisfied: numpy>=1.21.2 in c:\\users\\lenovo\\anaconda3\\lib\\site-packages (from pmdarima) (1.21.5)\n",
      "Requirement already satisfied: pyparsing!=3.0.5,>=2.0.2 in c:\\users\\lenovo\\anaconda3\\lib\\site-packages (from packaging>=17.1->pmdarima) (3.0.4)\n",
      "Requirement already satisfied: python-dateutil>=2.8.1 in c:\\users\\lenovo\\anaconda3\\lib\\site-packages (from pandas>=0.19->pmdarima) (2.8.2)\n",
      "Requirement already satisfied: pytz>=2020.1 in c:\\users\\lenovo\\anaconda3\\lib\\site-packages (from pandas>=0.19->pmdarima) (2021.3)\n",
      "Requirement already satisfied: six>=1.5 in c:\\users\\lenovo\\anaconda3\\lib\\site-packages (from python-dateutil>=2.8.1->pandas>=0.19->pmdarima) (1.16.0)\n",
      "Requirement already satisfied: threadpoolctl>=2.0.0 in c:\\users\\lenovo\\anaconda3\\lib\\site-packages (from scikit-learn>=0.22->pmdarima) (2.2.0)\n",
      "Requirement already satisfied: patsy>=0.5.2 in c:\\users\\lenovo\\anaconda3\\lib\\site-packages (from statsmodels>=0.13.2->pmdarima) (0.5.2)\n",
      "\n"
     ]
    }
   ],
   "source": [
    "pip install pmdarima"
   ]
  },
  {
   "cell_type": "code",
   "execution_count": 4,
   "id": "42c9dcf6",
   "metadata": {},
   "outputs": [
    {
     "name": "stdout",
     "output_type": "stream",
     "text": [
      "Requirement already satisfied: prophet in c:\\users\\lenovo\\anaconda3\\lib\\site-packages (1.1.6)\n",
      "Requirement already satisfied: tqdm>=4.36.1 in c:\\users\\lenovo\\anaconda3\\lib\\site-packages (from prophet) (4.64.0)\n",
      "Requirement already satisfied: holidays<1,>=0.25 in c:\\users\\lenovo\\anaconda3\\lib\\site-packages (from prophet) (0.62)\n",
      "Requirement already satisfied: cmdstanpy>=1.0.4 in c:\\users\\lenovo\\anaconda3\\lib\\site-packages (from prophet) (1.2.5)\n",
      "Requirement already satisfied: importlib-resources in c:\\users\\lenovo\\anaconda3\\lib\\site-packages (from prophet) (6.4.5)\n",
      "Requirement already satisfied: matplotlib>=2.0.0 in c:\\users\\lenovo\\anaconda3\\lib\\site-packages (from prophet) (3.5.1)\n",
      "Requirement already satisfied: pandas>=1.0.4 in c:\\users\\lenovo\\anaconda3\\lib\\site-packages (from prophet) (1.4.2)\n",
      "Requirement already satisfied: numpy>=1.15.4 in c:\\users\\lenovo\\anaconda3\\lib\\site-packages (from prophet) (1.21.5)\n",
      "Requirement already satisfied: stanio<2.0.0,>=0.4.0 in c:\\users\\lenovo\\anaconda3\\lib\\site-packages (from cmdstanpy>=1.0.4->prophet) (0.5.1)\n",
      "Requirement already satisfied: python-dateutil in c:\\users\\lenovo\\anaconda3\\lib\\site-packages (from holidays<1,>=0.25->prophet) (2.8.2)\n",
      "Requirement already satisfied: cycler>=0.10 in c:\\users\\lenovo\\anaconda3\\lib\\site-packages (from matplotlib>=2.0.0->prophet) (0.11.0)\n",
      "Requirement already satisfied: pillow>=6.2.0 in c:\\users\\lenovo\\anaconda3\\lib\\site-packages (from matplotlib>=2.0.0->prophet) (9.0.1)\n",
      "Requirement already satisfied: packaging>=20.0 in c:\\users\\lenovo\\anaconda3\\lib\\site-packages (from matplotlib>=2.0.0->prophet) (21.3)\n",
      "Requirement already satisfied: pyparsing>=2.2.1 in c:\\users\\lenovo\\anaconda3\\lib\\site-packages (from matplotlib>=2.0.0->prophet) (3.0.4)\n",
      "Requirement already satisfied: kiwisolver>=1.0.1 in c:\\users\\lenovo\\anaconda3\\lib\\site-packages (from matplotlib>=2.0.0->prophet) (1.3.2)\n",
      "Requirement already satisfied: fonttools>=4.22.0 in c:\\users\\lenovo\\anaconda3\\lib\\site-packages (from matplotlib>=2.0.0->prophet) (4.25.0)\n",
      "Requirement already satisfied: pytz>=2020.1 in c:\\users\\lenovo\\anaconda3\\lib\\site-packages (from pandas>=1.0.4->prophet) (2021.3)\n",
      "Requirement already satisfied: six>=1.5 in c:\\users\\lenovo\\anaconda3\\lib\\site-packages (from python-dateutil->holidays<1,>=0.25->prophet) (1.16.0)\n",
      "Requirement already satisfied: colorama in c:\\users\\lenovo\\anaconda3\\lib\\site-packages (from tqdm>=4.36.1->prophet) (0.4.4)\n",
      "Requirement already satisfied: zipp>=3.1.0 in c:\\users\\lenovo\\anaconda3\\lib\\site-packages (from importlib-resources->prophet) (3.7.0)\n",
      "Note: you may need to restart the kernel to use updated packages.\n"
     ]
    }
   ],
   "source": [
    "pip install prophet"
   ]
  },
  {
   "cell_type": "code",
   "execution_count": 5,
   "id": "809e4ad8",
   "metadata": {},
   "outputs": [
    {
     "name": "stdout",
     "output_type": "stream",
     "text": [
      "Requirement already satisfied: tensorflow in c:\\users\\lenovo\\anaconda3\\lib\\site-packages (2.18.0)\n",
      "Requirement already satisfied: tensorflow-intel==2.18.0 in c:\\users\\lenovo\\anaconda3\\lib\\site-packages (from tensorflow) (2.18.0)\n",
      "Requirement already satisfied: setuptools in c:\\users\\lenovo\\anaconda3\\lib\\site-packages (from tensorflow-intel==2.18.0->tensorflow) (61.2.0)\n",
      "Requirement already satisfied: termcolor>=1.1.0 in c:\\users\\lenovo\\anaconda3\\lib\\site-packages (from tensorflow-intel==2.18.0->tensorflow) (2.5.0)\n",
      "Requirement already satisfied: six>=1.12.0 in c:\\users\\lenovo\\anaconda3\\lib\\site-packages (from tensorflow-intel==2.18.0->tensorflow) (1.16.0)\n",
      "Requirement already satisfied: opt-einsum>=2.3.2 in c:\\users\\lenovo\\anaconda3\\lib\\site-packages (from tensorflow-intel==2.18.0->tensorflow) (3.4.0)\n",
      "Requirement already satisfied: absl-py>=1.0.0 in c:\\users\\lenovo\\anaconda3\\lib\\site-packages (from tensorflow-intel==2.18.0->tensorflow) (2.1.0)\n",
      "Requirement already satisfied: flatbuffers>=24.3.25 in c:\\users\\lenovo\\anaconda3\\lib\\site-packages (from tensorflow-intel==2.18.0->tensorflow) (24.3.25)\n",
      "Requirement already satisfied: keras>=3.5.0 in c:\\users\\lenovo\\anaconda3\\lib\\site-packages (from tensorflow-intel==2.18.0->tensorflow) (3.7.0)\n",
      "Requirement already satisfied: astunparse>=1.6.0 in c:\\users\\lenovo\\anaconda3\\lib\\site-packages (from tensorflow-intel==2.18.0->tensorflow) (1.6.3)\n",
      "Requirement already satisfied: ml-dtypes<0.5.0,>=0.4.0 in c:\\users\\lenovo\\anaconda3\\lib\\site-packages (from tensorflow-intel==2.18.0->tensorflow) (0.4.1)\n",
      "Requirement already satisfied: h5py>=3.11.0 in c:\\users\\lenovo\\anaconda3\\lib\\site-packages (from tensorflow-intel==2.18.0->tensorflow) (3.12.1)\n",
      "Requirement already satisfied: google-pasta>=0.1.1 in c:\\users\\lenovo\\anaconda3\\lib\\site-packages (from tensorflow-intel==2.18.0->tensorflow) (0.2.0)\n",
      "Requirement already satisfied: packaging in c:\\users\\lenovo\\anaconda3\\lib\\site-packages (from tensorflow-intel==2.18.0->tensorflow) (21.3)\n",
      "Requirement already satisfied: requests<3,>=2.21.0 in c:\\users\\lenovo\\anaconda3\\lib\\site-packages (from tensorflow-intel==2.18.0->tensorflow) (2.27.1)\n",
      "Requirement already satisfied: gast!=0.5.0,!=0.5.1,!=0.5.2,>=0.2.1 in c:\\users\\lenovo\\anaconda3\\lib\\site-packages (from tensorflow-intel==2.18.0->tensorflow) (0.6.0)\n",
      "Requirement already satisfied: tensorflow-io-gcs-filesystem>=0.23.1 in c:\\users\\lenovo\\anaconda3\\lib\\site-packages (from tensorflow-intel==2.18.0->tensorflow) (0.31.0)\n",
      "Requirement already satisfied: tensorboard<2.19,>=2.18 in c:\\users\\lenovo\\anaconda3\\lib\\site-packages (from tensorflow-intel==2.18.0->tensorflow) (2.18.0)\n",
      "Requirement already satisfied: protobuf!=4.21.0,!=4.21.1,!=4.21.2,!=4.21.3,!=4.21.4,!=4.21.5,<6.0.0dev,>=3.20.3 in c:\\users\\lenovo\\anaconda3\\lib\\site-packages (from tensorflow-intel==2.18.0->tensorflow) (5.29.1)\n",
      "Requirement already satisfied: typing-extensions>=3.6.6 in c:\\users\\lenovo\\anaconda3\\lib\\site-packages (from tensorflow-intel==2.18.0->tensorflow) (4.12.2)\n",
      "Collecting numpy<2.1.0,>=1.26.0\n",
      "  Using cached numpy-2.0.2-cp39-cp39-win_amd64.whl (15.9 MB)\n",
      "Requirement already satisfied: wrapt>=1.11.0 in c:\\users\\lenovo\\anaconda3\\lib\\site-packages (from tensorflow-intel==2.18.0->tensorflow) (1.12.1)\n",
      "Requirement already satisfied: libclang>=13.0.0 in c:\\users\\lenovo\\anaconda3\\lib\\site-packages (from tensorflow-intel==2.18.0->tensorflow) (18.1.1)\n",
      "Requirement already satisfied: grpcio<2.0,>=1.24.3 in c:\\users\\lenovo\\anaconda3\\lib\\site-packages (from tensorflow-intel==2.18.0->tensorflow) (1.68.1)\n",
      "Requirement already satisfied: wheel<1.0,>=0.23.0 in c:\\users\\lenovo\\anaconda3\\lib\\site-packages (from astunparse>=1.6.0->tensorflow-intel==2.18.0->tensorflow) (0.37.1)\n",
      "Requirement already satisfied: rich in c:\\users\\lenovo\\anaconda3\\lib\\site-packages (from keras>=3.5.0->tensorflow-intel==2.18.0->tensorflow) (13.9.4)\n",
      "Requirement already satisfied: optree in c:\\users\\lenovo\\anaconda3\\lib\\site-packages (from keras>=3.5.0->tensorflow-intel==2.18.0->tensorflow) (0.13.1)\n",
      "Requirement already satisfied: namex in c:\\users\\lenovo\\anaconda3\\lib\\site-packages (from keras>=3.5.0->tensorflow-intel==2.18.0->tensorflow) (0.0.8)\n",
      "Requirement already satisfied: idna<4,>=2.5 in c:\\users\\lenovo\\anaconda3\\lib\\site-packages (from requests<3,>=2.21.0->tensorflow-intel==2.18.0->tensorflow) (3.3)\n",
      "Requirement already satisfied: charset-normalizer~=2.0.0 in c:\\users\\lenovo\\anaconda3\\lib\\site-packages (from requests<3,>=2.21.0->tensorflow-intel==2.18.0->tensorflow) (2.0.4)Note: you may need to restart the kernel to use updated packages.\n"
     ]
    },
    {
     "name": "stderr",
     "output_type": "stream",
     "text": [
      "ERROR: Could not install packages due to an OSError: [WinError 5] Access is denied: 'C:\\\\Users\\\\Lenovo\\\\anaconda3\\\\Lib\\\\site-packages\\\\~-mpy\\\\.libs\\\\libopenblas.XWYDX2IKJW2NMTWSFYNGFUWKQU3LYTCZ.gfortran-win_amd64.dll'\n",
      "Consider using the `--user` option or check the permissions.\n",
      "\n"
     ]
    },
    {
     "name": "stdout",
     "output_type": "stream",
     "text": [
      "\n",
      "Requirement already satisfied: urllib3<1.27,>=1.21.1 in c:\\users\\lenovo\\anaconda3\\lib\\site-packages (from requests<3,>=2.21.0->tensorflow-intel==2.18.0->tensorflow) (1.26.9)\n",
      "Requirement already satisfied: certifi>=2017.4.17 in c:\\users\\lenovo\\anaconda3\\lib\\site-packages (from requests<3,>=2.21.0->tensorflow-intel==2.18.0->tensorflow) (2021.10.8)\n",
      "Requirement already satisfied: tensorboard-data-server<0.8.0,>=0.7.0 in c:\\users\\lenovo\\anaconda3\\lib\\site-packages (from tensorboard<2.19,>=2.18->tensorflow-intel==2.18.0->tensorflow) (0.7.2)\n",
      "Requirement already satisfied: markdown>=2.6.8 in c:\\users\\lenovo\\anaconda3\\lib\\site-packages (from tensorboard<2.19,>=2.18->tensorflow-intel==2.18.0->tensorflow) (3.3.4)\n",
      "Requirement already satisfied: werkzeug>=1.0.1 in c:\\users\\lenovo\\anaconda3\\lib\\site-packages (from tensorboard<2.19,>=2.18->tensorflow-intel==2.18.0->tensorflow) (2.0.3)\n",
      "Requirement already satisfied: pyparsing!=3.0.5,>=2.0.2 in c:\\users\\lenovo\\anaconda3\\lib\\site-packages (from packaging->tensorflow-intel==2.18.0->tensorflow) (3.0.4)\n",
      "Requirement already satisfied: markdown-it-py>=2.2.0 in c:\\users\\lenovo\\anaconda3\\lib\\site-packages (from rich->keras>=3.5.0->tensorflow-intel==2.18.0->tensorflow) (3.0.0)\n",
      "Requirement already satisfied: pygments<3.0.0,>=2.13.0 in c:\\users\\lenovo\\anaconda3\\lib\\site-packages (from rich->keras>=3.5.0->tensorflow-intel==2.18.0->tensorflow) (2.18.0)\n",
      "Requirement already satisfied: mdurl~=0.1 in c:\\users\\lenovo\\anaconda3\\lib\\site-packages (from markdown-it-py>=2.2.0->rich->keras>=3.5.0->tensorflow-intel==2.18.0->tensorflow) (0.1.2)\n",
      "Installing collected packages: numpy\n",
      "  Attempting uninstall: numpy\n",
      "    Found existing installation: numpy 1.21.5\n",
      "    Uninstalling numpy-1.21.5:\n",
      "      Successfully uninstalled numpy-1.21.5\n"
     ]
    }
   ],
   "source": [
    "pip install tensorflow"
   ]
  },
  {
   "cell_type": "code",
   "execution_count": 6,
   "id": "ead7fead",
   "metadata": {},
   "outputs": [
    {
     "name": "stdout",
     "output_type": "stream",
     "text": [
      "Collecting numpy==1.21.5\n",
      "  Using cached numpy-1.21.5-cp39-cp39-win_amd64.whl (14.0 MB)\n",
      "Installing collected packages: numpy\n",
      "  Attempting uninstall: numpy\n",
      "    Found existing installation: numpy 2.0.2\n",
      "    Uninstalling numpy-2.0.2:\n",
      "      Successfully uninstalled numpy-2.0.2\n",
      "Successfully installed numpy-1.21.5\n",
      "Note: you may need to restart the kernel to use updated packages.\n"
     ]
    },
    {
     "name": "stderr",
     "output_type": "stream",
     "text": [
      "ERROR: pip's dependency resolver does not currently take into account all the packages that are installed. This behaviour is the source of the following dependency conflicts.\n",
      "daal4py 2021.5.0 requires daal==2021.4.0, which is not installed.\n",
      "tensorflow-intel 2.18.0 requires numpy<2.1.0,>=1.26.0, but you have numpy 1.21.5 which is incompatible.\n"
     ]
    }
   ],
   "source": [
    "pip install numpy==1.21.5"
   ]
  },
  {
   "cell_type": "code",
   "execution_count": 7,
   "id": "4e80bb1a",
   "metadata": {},
   "outputs": [],
   "source": [
    "import numpy as np\n",
    "import matplotlib.pyplot as plt\n",
    "import seaborn as sns\n",
    "import itertools\n",
    "from pmdarima import auto_arima\n",
    "from statsmodels.tsa.arima.model import ARIMA\n",
    "from statsmodels.tsa.statespace.sarimax import SARIMAX\n",
    "import statsmodels.api as sm\n",
    "from prophet import Prophet\n",
    "from sklearn.linear_model import LinearRegression\n",
    "from sklearn.metrics import mean_absolute_percentage_error as mape\n",
    "from tensorflow.keras.models import Sequential\n",
    "from tensorflow.keras.layers import LSTM, Dense\n",
    "from sklearn.preprocessing import MinMaxScaler\n",
    "from pmdarima import auto_arima\n",
    "import pickle\n",
    "import warnings\n",
    "warnings.filterwarnings(\"ignore\")"
   ]
  },
  {
   "cell_type": "markdown",
   "id": "7c808ea0",
   "metadata": {},
   "source": [
    "# 1.1. ARIMA Model"
   ]
  },
  {
   "cell_type": "markdown",
   "id": "9020c180",
   "metadata": {},
   "source": [
    "* p (AutoRegressive term): The number of past observations (lags) used to predict the future value.\n",
    "* d (Differencing term): The number of times the data is differenced to make it stationary.\n",
    "* q (Moving Average term): The number of past forecast errors used to improve future predictions."
   ]
  },
  {
   "cell_type": "code",
   "execution_count": 8,
   "id": "192cfe05",
   "metadata": {},
   "outputs": [],
   "source": [
    "# Pizza sales by week\n",
    "def prepare_weekly_sales(df):\n",
    "    df['order_date'] = pd.to_datetime(df['order_date'])\n",
    "    weekly_sales = df.groupby(df['order_date'].dt.to_period('W').apply(lambda r: r.start_time))['quantity'].sum()\n",
    "    return weekly_sales\n",
    "\n",
    "pizza_sales_weekly = prepare_weekly_sales(pizza_sale)"
   ]
  },
  {
   "cell_type": "code",
   "execution_count": 9,
   "id": "a24ba6ed",
   "metadata": {},
   "outputs": [
    {
     "data": {
      "text/plain": [
       "order_date\n",
       "2014-12-29    2248.0\n",
       "2015-01-05    4173.0\n",
       "2015-01-12    3567.0\n",
       "2015-01-19    3674.0\n",
       "2015-01-26    3668.0\n",
       "2015-02-02    3824.0\n",
       "2015-02-09    3634.0\n",
       "2015-02-16    3574.0\n",
       "2015-02-23    3989.0\n",
       "2015-03-02    3891.0\n",
       "2015-03-09    3647.0\n",
       "2015-03-16    3697.0\n",
       "2015-03-23    3688.0\n",
       "2015-03-30    3890.0\n",
       "2015-04-06    4215.0\n",
       "2015-04-13    3806.0\n",
       "2015-04-20    3777.0\n",
       "2015-04-27    3531.0\n",
       "2015-05-04    2970.0\n",
       "2015-05-11    3974.0\n",
       "2015-05-18    3692.0\n",
       "2015-05-25    3555.0\n",
       "2015-06-01    3887.0\n",
       "2015-06-08    3690.0\n",
       "2015-06-15    3612.0\n",
       "2015-06-22    3782.0\n",
       "2015-06-29    3578.0\n",
       "2015-07-06    3775.0\n",
       "2015-07-13    3831.0\n",
       "2015-07-20    3766.0\n",
       "2015-07-27    3640.0\n",
       "2015-08-03    3961.0\n",
       "2015-08-10    3592.0\n",
       "2015-08-17    3655.0\n",
       "2015-08-24    3355.0\n",
       "2015-08-31    3630.0\n",
       "2015-09-07    3785.0\n",
       "2015-09-14    3718.0\n",
       "2015-09-21    2601.0\n",
       "2015-09-28    3771.0\n",
       "2015-10-05    3693.0\n",
       "2015-10-12    4095.0\n",
       "2015-10-19    3365.0\n",
       "2015-10-26    3056.0\n",
       "2015-11-02    3878.0\n",
       "2015-11-09    3702.0\n",
       "2015-11-16    3509.0\n",
       "2015-11-23    4597.0\n",
       "2015-11-30    3428.0\n",
       "2015-12-07    3241.0\n",
       "2015-12-14    3729.0\n",
       "2015-12-21    2671.0\n",
       "2015-12-28    1702.0\n",
       "Name: quantity, dtype: float64"
      ]
     },
     "execution_count": 9,
     "metadata": {},
     "output_type": "execute_result"
    }
   ],
   "source": [
    "pizza_sales_weekly"
   ]
  },
  {
   "cell_type": "code",
   "execution_count": 10,
   "id": "3d6ab9a5",
   "metadata": {},
   "outputs": [
    {
     "name": "stdout",
     "output_type": "stream",
     "text": [
      "Best ARIMA Model MAPE: 0.1973, Best Parameters: (3, 1, 5)\n",
      "Predictions:\n",
      "order_date\n",
      "2015-10-19    3442.613857\n",
      "2015-10-26    3846.545556\n",
      "2015-11-02    3628.851773\n",
      "2015-11-09    3645.890180\n",
      "2015-11-16    3565.620780\n",
      "2015-11-23    3874.910513\n",
      "2015-11-30    3524.494368\n",
      "2015-12-07    3665.075762\n",
      "2015-12-14    3661.034088\n",
      "2015-12-21    3812.339885\n",
      "2015-12-28    3457.754068\n",
      "Name: predicted_mean, dtype: float64\n"
     ]
    }
   ],
   "source": [
    "# train test split\n",
    "train_size = int(0.8 * len(pizza_sales_weekly))\n",
    "train, test = pizza_sales_weekly[:train_size], pizza_sales_weekly[train_size:]\n",
    "\n",
    "# MAPE\n",
    "def mape(actual, predicted):\n",
    "    return np.mean(np.abs((actual - predicted) / actual))\n",
    "\n",
    "# ARIMA Model Tuneing\n",
    "def tune_arima_model(train, test, p_values, d_values, q_values):\n",
    "    best_score, best_params, best_predictions = float(\"inf\"), None, None\n",
    "\n",
    "    for p, d, q in itertools.product(p_values, d_values, q_values):\n",
    "        try:\n",
    "            model = ARIMA(train, order=(p, d, q)).fit()\n",
    "            predictions = model.forecast(steps=len(test))\n",
    "            arima_mape = mape(test, predictions)\n",
    "            if arima_mape < best_score:\n",
    "                best_score, best_params, best_predictions = arima_mape, (p, d, q), predictions\n",
    "        except:\n",
    "            continue\n",
    "\n",
    "    print(f\"Best ARIMA Model MAPE: {best_score:.4f}, Best Parameters: {best_params}\")\n",
    "    return best_predictions, best_score, best_params\n",
    "\n",
    "p_values, d_values, q_values = range(0, 6), range(0, 2), range(0, 6)\n",
    "arima_predictions, arima_mape_score, best_params = tune_arima_model(train, test, p_values, d_values, q_values)\n",
    "\n",
    "# Formating the predictions for display\n",
    "arima_predictions = pd.Series(arima_predictions, index=test.index)\n",
    "\n",
    "print(\"Predictions:\")\n",
    "print(arima_predictions)"
   ]
  },
  {
   "cell_type": "code",
   "execution_count": 11,
   "id": "69268cb3",
   "metadata": {},
   "outputs": [
    {
     "data": {
      "image/png": "[encoded data removed]",
      "text/plain": [
       "<Figure size 864x432 with 1 Axes>"
      ]
     },
     "metadata": {
      "needs_background": "light"
     },
     "output_type": "display_data"
    }
   ],
   "source": [
    "# Plot actual vs predicted values\n",
    "plt.figure(figsize=(12, 6))\n",
    "plt.plot(test.index, test.values, label='Actual Sales', color='blue', marker='o')\n",
    "plt.plot(arima_predictions.index, arima_predictions, label='Predicted Sales', color='orange', linestyle='--', marker='x')\n",
    "plt.title('ARIMA Predictions vs Actual Sales')\n",
    "plt.xlabel('Date')\n",
    "plt.ylabel('Weekly Sales')\n",
    "plt.xticks(rotation=45)\n",
    "plt.legend()\n",
    "plt.grid()\n",
    "plt.tight_layout()\n",
    "plt.show()"
   ]
  },
  {
   "cell_type": "markdown",
   "id": "62717ba4",
   "metadata": {},
   "source": [
    "# 1.2. SARIMA (Seasonal ARIMA)"
   ]
  },
  {
   "cell_type": "markdown",
   "id": "f6dd942e",
   "metadata": {},
   "source": [
    "* P (Seasonal AutoRegressive term): The number of past seasonal values used for prediction.\n",
    "* D (Seasonal Differencing term): The number of seasonal differencing applied to make data stationary.\n",
    "* Q (Seasonal Moving Average term): The number of past seasonal forecast errors used for prediction.\n",
    "* S (Seasonal Period): The length of the seasonal cycle (e.g., 12 for yearly seasonality in monthly data)."
   ]
  },
  {
   "cell_type": "code",
   "execution_count": 12,
   "id": "03f87667",
   "metadata": {},
   "outputs": [
    {
     "name": "stdout",
     "output_type": "stream",
     "text": [
      "Best SARIMA Model MAPE: 0.2327\n",
      "Predictions:\n",
      "order_date\n",
      "2015-10-19    3639.064834\n",
      "2015-10-26    3962.060860\n",
      "2015-11-02    3803.567966\n",
      "2015-11-09    3536.255690\n",
      "2015-11-16    3700.833915\n",
      "2015-11-23    3810.493815\n",
      "2015-11-30    3827.372013\n",
      "2015-12-07    3746.217217\n",
      "2015-12-14    4015.172894\n",
      "2015-12-21    3866.686587\n",
      "2015-12-28    3566.403250\n",
      "Name: predicted_mean, dtype: float64\n"
     ]
    }
   ],
   "source": [
    "# Best SARIMA Model Training and Output\n",
    "def best_sarima_model(train, test):\n",
    "    model = SARIMAX(train, order=(1, 1, 1), seasonal_order=(1, 1, 1, 7)).fit(disp=False)\n",
    "    predictions = model.forecast(steps=len(test))\n",
    "    sarima_mape = mape(test, predictions)\n",
    "\n",
    "    print(f\"Best SARIMA Model MAPE: {sarima_mape:.4f}\")\n",
    "    return predictions, sarima_mape\n",
    "\n",
    "\n",
    "sarima_predictions, sarima_mape_score = best_sarima_model(train, test)\n",
    "sarima_predictions = pd.Series(sarima_predictions, index=test.index)\n",
    "print(\"Predictions:\")\n",
    "print(sarima_predictions)"
   ]
  },
  {
   "cell_type": "code",
   "execution_count": 13,
   "id": "10bf73a3",
   "metadata": {},
   "outputs": [
    {
     "data": {
      "image/png": "[encoded data removed]",
      "text/plain": [
       "<Figure size 864x432 with 1 Axes>"
      ]
     },
     "metadata": {
      "needs_background": "light"
     },
     "output_type": "display_data"
    }
   ],
   "source": [
    "# Plot actual vs predicted values\n",
    "plt.figure(figsize=(12, 6))\n",
    "plt.plot(test.index, test.values, label='Actual Sales', color='blue', marker='o')\n",
    "plt.plot(sarima_predictions.index, sarima_predictions, label='Predicted Sales', color='orange', linestyle='--', marker='x')\n",
    "plt.title('SARIMA Predictions vs Actual Sales')\n",
    "plt.xlabel('Date')\n",
    "plt.ylabel('Weekly Sales')\n",
    "plt.xticks(rotation=45)\n",
    "plt.legend()\n",
    "plt.grid()\n",
    "plt.tight_layout()\n",
    "plt.show()"
   ]
  },
  {
   "cell_type": "markdown",
   "id": "80bb7543",
   "metadata": {},
   "source": [
    "# 1.3. Prophet (Developed by Facebook)"
   ]
  },
  {
   "cell_type": "markdown",
   "id": "ece36827",
   "metadata": {},
   "source": [
    "Prophet is a popular model for handling time series data with seasonal and holiday effects. The Facebook Prophet model is a tool developed by Facebook for forecasting time series data. It’s especially useful when you want to predict future values based on historical data, such as sales, temperatures, or website traffic.\n",
    "\n",
    "Growth: Defines the trend type (linear or logistic). Changepoints: Points where the trend changes. Seasonality: Models seasonal patterns (weekly, yearly, etc.). Holidays: Incorporates custom holidays or events affecting the forecast. Seasonality Mode: Can be additive or multiplicative."
   ]
  },
  {
   "cell_type": "code",
   "execution_count": 14,
   "id": "3197c1c8",
   "metadata": {},
   "outputs": [
    {
     "name": "stderr",
     "output_type": "stream",
     "text": [
      "00:51:15 - cmdstanpy - INFO - Chain [1] start processing\n",
      "00:51:15 - cmdstanpy - INFO - Chain [1] done processing\n"
     ]
    },
    {
     "name": "stdout",
     "output_type": "stream",
     "text": [
      "Best Prophet Model MAPE: 0.2163\n",
      "Predictions:\n",
      "ds\n",
      "2015-10-19    3684.955697\n",
      "2015-10-26    3685.691317\n",
      "2015-11-02    3686.426937\n",
      "2015-11-09    3687.162557\n",
      "2015-11-16    3687.898177\n",
      "2015-11-23    3688.633796\n",
      "2015-11-30    3689.369416\n",
      "2015-12-07    3690.105036\n",
      "2015-12-14    3690.840656\n",
      "2015-12-21    3691.576276\n",
      "2015-12-28    3692.311896\n",
      "dtype: float64\n"
     ]
    }
   ],
   "source": [
    "# Pizza sales by week\n",
    "def prepare_weekly_sales_for_prophet(df):\n",
    "    df['order_date'] = pd.to_datetime(df['order_date'])\n",
    "    weekly_sales = df.groupby(df['order_date'].dt.to_period('W').apply(lambda r: r.start_time))['quantity'].sum().reset_index()\n",
    "    weekly_sales.columns = ['ds', 'y']  # this model requires columns 'ds'- date and 'y'- target variable\n",
    "    return weekly_sales\n",
    "\n",
    "pizza_sales_weekly = prepare_weekly_sales_for_prophet(pizza_sale)\n",
    "\n",
    "# train test split\n",
    "train_size = int(0.8 * len(pizza_sales_weekly))\n",
    "train, test = pizza_sales_weekly[:train_size], pizza_sales_weekly[train_size:]\n",
    "\n",
    "# MAPE\n",
    "def mape(actual, predicted):\n",
    "    return np.mean(np.abs((actual - predicted) / actual))\n",
    "\n",
    "# Best Prophet Model Training and Output\n",
    "def best_prophet_model(train, test):\n",
    "    model = Prophet()\n",
    "    model.fit(train)\n",
    "    \n",
    "    future = model.make_future_dataframe(periods=len(test), freq='W')\n",
    "    forecast = model.predict(future)\n",
    "    predictions = forecast['yhat'][-len(test):].values\n",
    "    prophet_mape = mape(test['y'].values, predictions)\n",
    "    \n",
    "    print(f\"Best Prophet Model MAPE: {prophet_mape:.4f}\")\n",
    "    return predictions, prophet_mape\n",
    "\n",
    "# Train and evaluate the Prophet model\n",
    "prophet_predictions, prophet_mape_score = best_prophet_model(train, test)\n",
    "\n",
    "# Formating the predictions for display\n",
    "prophet_predictions = pd.Series(prophet_predictions, index=test['ds'])\n",
    "\n",
    "print(\"Predictions:\")\n",
    "print(prophet_predictions)"
   ]
  },
  {
   "cell_type": "code",
   "execution_count": 15,
   "id": "6ea34c01",
   "metadata": {},
   "outputs": [
    {
     "data": {
      "image/png": "[encoded data removed]",
      "text/plain": [
       "<Figure size 864x432 with 1 Axes>"
      ]
     },
     "metadata": {
      "needs_background": "light"
     },
     "output_type": "display_data"
    }
   ],
   "source": [
    "# Plot actual vs predicted values\n",
    "plt.figure(figsize=(12, 6))\n",
    "plt.plot(test['ds'], test['y'], label='Actual Sales', color='blue', marker='o')\n",
    "plt.plot(prophet_predictions.index, prophet_predictions, label='Predicted Sales', color='orange', linestyle='--', marker='x')\n",
    "plt.title('Prophet Predictions vs Actual Sales')\n",
    "plt.xlabel('Date')\n",
    "plt.ylabel('Weekly Sales')\n",
    "plt.xticks(rotation=45)\n",
    "plt.legend()\n",
    "plt.grid()\n",
    "plt.tight_layout()\n",
    "plt.show()"
   ]
  },
  {
   "cell_type": "markdown",
   "id": "e008685e",
   "metadata": {},
   "source": [
    "# 1.4. LSTM model"
   ]
  },
  {
   "cell_type": "markdown",
   "id": "5a346dd2",
   "metadata": {},
   "source": [
    "The Long Short-Term Memory (LSTM) model is a type of recurrent neural network (RNN) widely used for time-series forecasting. It is particularly effective for modeling sequences because it can capture long-term dependencies and temporal patterns."
   ]
  },
  {
   "cell_type": "code",
   "execution_count": 16,
   "id": "0c91a298",
   "metadata": {},
   "outputs": [
    {
     "name": "stdout",
     "output_type": "stream",
     "text": [
      "\u001b[1m1/1\u001b[0m \u001b[32m━━━━━━━━━━━━━━━━━━━━\u001b[0m\u001b[37m\u001b[0m \u001b[1m1s\u001b[0m 838ms/step\n",
      "Best LSTM Model MAPE: 0.2283\n",
      "Predictions:\n",
      "order_date\n",
      "2015-11-09    3467.824463\n",
      "2015-11-16    3534.159180\n",
      "2015-11-23    3669.052734\n",
      "2015-11-30    3791.979492\n",
      "2015-12-07    3761.042725\n",
      "2015-12-14    3749.136230\n",
      "2015-12-21    3493.656494\n",
      "2015-12-28    3360.487549\n",
      "dtype: float32\n"
     ]
    }
   ],
   "source": [
    "# Pizza sales by week\n",
    "def prepare_weekly_sales(df):\n",
    "    df['order_date'] = pd.to_datetime(df['order_date'])\n",
    "    weekly_sales = df.groupby(df['order_date'].dt.to_period('W').apply(lambda r: r.start_time))['quantity'].sum().reset_index()\n",
    "    return weekly_sales\n",
    "\n",
    "pizza_sales_weekly = prepare_weekly_sales(pizza_sale)\n",
    "\n",
    "# train test split\n",
    "train_size = int(0.8 * len(pizza_sales_weekly))\n",
    "train, test = pizza_sales_weekly[:train_size], pizza_sales_weekly[train_size:]\n",
    "\n",
    "# Normalizeing the data for LSTM\n",
    "scaler = MinMaxScaler(feature_range=(0, 1))\n",
    "train_scaled = scaler.fit_transform(train[['quantity']])\n",
    "test_scaled = scaler.transform(test[['quantity']])\n",
    "\n",
    "# Prepareing data for LSTM\n",
    "def create_lstm_dataset(data, time_steps=1):\n",
    "    X, y = [], []\n",
    "    for i in range(len(data) - time_steps):\n",
    "        X.append(data[i:(i + time_steps), 0])\n",
    "        y.append(data[i + time_steps, 0])\n",
    "    return np.array(X), np.array(y)\n",
    "\n",
    "time_steps = 3\n",
    "X_train, y_train = create_lstm_dataset(train_scaled, time_steps)\n",
    "X_test, y_test = create_lstm_dataset(test_scaled, time_steps)\n",
    "\n",
    "# Reshapeing X for LSTM input-Essential for compatibility with LSTM input requirements.\n",
    "X_train = X_train.reshape((X_train.shape[0], X_train.shape[1], 1))\n",
    "X_test = X_test.reshape((X_test.shape[0], X_test.shape[1], 1))\n",
    "\n",
    "# Training LSTM Model\n",
    "def best_lstm_model(X_train, y_train, X_test, y_test, epochs=50, batch_size=32):\n",
    "    model = Sequential()\n",
    "    model.add(LSTM(50, activation='relu', input_shape=(X_train.shape[1], 1)))\n",
    "    model.add(Dense(1)) #Adds a fully connected layer with 1 neuron \n",
    "    model.compile(optimizer='adam', loss='mse')#adam- Adaptive optimizer for efficient training.\n",
    "\n",
    "    model.fit(X_train, y_train, epochs=epochs, batch_size=batch_size, verbose=0)\n",
    "\n",
    "    predictions = model.predict(X_test)\n",
    "    predictions = scaler.inverse_transform(predictions) # normalized minmacscalarm-tranformation\n",
    "    y_test_rescaled = scaler.inverse_transform(y_test.reshape(-1, 1))\n",
    "\n",
    "    lstm_mape = mape(y_test_rescaled, predictions)\n",
    "    \n",
    "    print(f\"Best LSTM Model MAPE: {lstm_mape:.4f}\")\n",
    "    return predictions, lstm_mape, y_test_rescaled\n",
    "\n",
    "# Train and evaluate the LSTM model\n",
    "lstm_predictions, lstm_mape_score, y_test_rescaled = best_lstm_model(X_train, y_train, X_test, y_test)\n",
    "\n",
    "# Formating the predictions for display\n",
    "lstm_predictions = pd.Series(lstm_predictions.flatten(), index=test['order_date'][time_steps:])\n",
    "\n",
    "print(\"Predictions:\")\n",
    "print(lstm_predictions)"
   ]
  },
  {
   "cell_type": "code",
   "execution_count": 17,
   "id": "fa32f79e",
   "metadata": {},
   "outputs": [
    {
     "data": {
      "image/png": "[encoded data removed]",
      "text/plain": [
       "<Figure size 864x432 with 1 Axes>"
      ]
     },
     "metadata": {
      "needs_background": "light"
     },
     "output_type": "display_data"
    }
   ],
   "source": [
    "# Plot actual vs predicted values\n",
    "plt.figure(figsize=(12, 6))\n",
    "plt.plot(test['order_date'][time_steps:], y_test_rescaled, label='Actual Sales', color='blue', marker='o')\n",
    "plt.plot(lstm_predictions.index, lstm_predictions, label='Predicted Sales', color='orange', linestyle='--', marker='x')\n",
    "plt.title('LSTM Predictions vs Actual Sales')\n",
    "plt.xlabel('Date')\n",
    "plt.ylabel('Weekly Sales')\n",
    "plt.xticks(rotation=45)\n",
    "plt.legend()\n",
    "plt.grid()\n",
    "plt.tight_layout()\n",
    "plt.show()"
   ]
  },
  {
   "cell_type": "markdown",
   "id": "68c240f6",
   "metadata": {},
   "source": [
    "# 2. FORECASTED SALES FOR THE WEEK"
   ]
  },
  {
   "cell_type": "markdown",
   "id": "1e20f397",
   "metadata": {},
   "source": [
    "# 2.1. ARIMA Model forecasted sales for the week:"
   ]
  },
  {
   "cell_type": "code",
   "execution_count": 18,
   "id": "9cbdd5a3",
   "metadata": {},
   "outputs": [
    {
     "name": "stdout",
     "output_type": "stream",
     "text": [
      "Forecasted sales for the week 2016-01-04 to 2016-01-10:\n",
      "bbq_ckn_l: 96 pizzas\n",
      "bbq_ckn_m: 87 pizzas\n",
      "bbq_ckn_s: 27 pizzas\n",
      "big_meat_s: 109 pizzas\n",
      "brie_carre_s: 37 pizzas\n",
      "calabrese_l: 18 pizzas\n",
      "calabrese_m: 40 pizzas\n",
      "cali_ckn_l: 90 pizzas\n",
      "cali_ckn_m: 98 pizzas\n",
      "cali_ckn_s: 41 pizzas\n",
      "ckn_alfredo_l: 17 pizzas\n",
      "ckn_alfredo_m: 66 pizzas\n",
      "ckn_alfredo_s: 9 pizzas\n",
      "ckn_pesto_l: 30 pizzas\n",
      "ckn_pesto_m: 18 pizzas\n",
      "ckn_pesto_s: 21 pizzas\n",
      "classic_dlx_l: 29 pizzas\n",
      "classic_dlx_m: 68 pizzas\n",
      "classic_dlx_s: 45 pizzas\n",
      "five_cheese_l: 54 pizzas\n",
      "four_cheese_l: 120 pizzas\n",
      "four_cheese_m: 44 pizzas\n",
      "green_garden_l: 12 pizzas\n",
      "green_garden_m: 23 pizzas\n",
      "green_garden_s: 43 pizzas\n",
      "hawaiian_l: 52 pizzas\n",
      "hawaiian_m: 28 pizzas\n",
      "hawaiian_s: 55 pizzas\n",
      "ital_cpcllo_l: 58 pizzas\n",
      "ital_cpcllo_m: 31 pizzas\n",
      "ital_cpcllo_s: 25 pizzas\n",
      "ital_supr_l: 53 pizzas\n",
      "ital_supr_m: 69 pizzas\n",
      "ital_supr_s: 15 pizzas\n",
      "ital_veggie_m: 36 pizzas\n",
      "ital_veggie_s: 17 pizzas\n",
      "mediterraneo_l: 34 pizzas\n",
      "mediterraneo_m: 27 pizzas\n",
      "mediterraneo_s: 22 pizzas\n",
      "mexicana_l: 66 pizzas\n",
      "mexicana_m: 36 pizzas\n",
      "mexicana_s: 12 pizzas\n",
      "napolitana_l: 45 pizzas\n",
      "napolitana_m: 32 pizzas\n",
      "napolitana_s: 36 pizzas\n",
      "pep_msh_pep_l: 14 pizzas\n",
      "pep_msh_pep_m: 15 pizzas\n",
      "pep_msh_pep_s: 11 pizzas\n",
      "pepperoni_l: 28 pizzas\n",
      "pepperoni_m: 36 pizzas\n",
      "pepperoni_s: 29 pizzas\n",
      "peppr_salami_l: 54 pizzas\n",
      "peppr_salami_m: 38 pizzas\n",
      "peppr_salami_s: 30 pizzas\n",
      "prsc_argla_l: 25 pizzas\n",
      "prsc_argla_m: 24 pizzas\n",
      "prsc_argla_s: 16 pizzas\n",
      "sicilian_l: 43 pizzas\n",
      "sicilian_m: 44 pizzas\n",
      "sicilian_s: 58 pizzas\n",
      "soppressata_l: 34 pizzas\n",
      "soppressata_m: 22 pizzas\n",
      "soppressata_s: 16 pizzas\n",
      "southw_ckn_l: 93 pizzas\n",
      "southw_ckn_m: 50 pizzas\n",
      "southw_ckn_s: 37 pizzas\n",
      "spicy_ital_l: 109 pizzas\n",
      "spicy_ital_m: 33 pizzas\n",
      "spicy_ital_s: 32 pizzas\n",
      "spin_pesto_l: 24 pizzas\n",
      "spin_pesto_m: 20 pizzas\n",
      "spin_pesto_s: 24 pizzas\n",
      "spinach_fet_l: 33 pizzas\n",
      "spinach_fet_m: 44 pizzas\n",
      "spinach_fet_s: 27 pizzas\n",
      "spinach_supr_l: 27 pizzas\n",
      "spinach_supr_m: 24 pizzas\n",
      "spinach_supr_s: 30 pizzas\n",
      "thai_ckn_l: 107 pizzas\n",
      "thai_ckn_m: 35 pizzas\n",
      "thai_ckn_s: 35 pizzas\n",
      "the_greek_l: 26 pizzas\n",
      "the_greek_m: 21 pizzas\n",
      "the_greek_s: 22 pizzas\n",
      "the_greek_xl: 43 pizzas\n",
      "the_greek_xxl: 6 pizzas\n",
      "veggie_veg_l: 48 pizzas\n",
      "veggie_veg_m: 62 pizzas\n",
      "veggie_veg_s: 33 pizzas\n",
      "calabrese_s: 9 pizzas\n",
      "ital_veggie_l: 14 pizzas\n",
      "Total quantity of units sold in the predicted week: 3596 pizzas\n"
     ]
    }
   ],
   "source": [
    "# ARIMA Model forecasted sales for the week:\n",
    "\n",
    "# Aggregate pizza sales by week and pizza type\n",
    "def prepare_weekly_sales_by_pizza(df):\n",
    "    df['order_date'] = pd.to_datetime(df['order_date'])\n",
    "    df['week'] = df['order_date'].dt.to_period('W').apply(lambda r: r.start_time)\n",
    "    weekly_sales_by_pizza = df.groupby(['week', 'pizza_name_id'])['quantity'].sum().reset_index()\n",
    "    weekly_sales_by_pizza.set_index('week', inplace=True)\n",
    "    return weekly_sales_by_pizza\n",
    "\n",
    "pizza_sales_weekly_by_pizza = prepare_weekly_sales_by_pizza(pizza_sale)\n",
    "\n",
    "# Function to forecast sales for each pizza type using ARIMA\n",
    "def forecast_sales_per_pizza_type_arima(pizza_type, train, periods=1):\n",
    "    model = ARIMA(train, order=(0, 0, 1))\n",
    "    model_fit = model.fit()\n",
    "\n",
    "    # Forecasting for the next week\n",
    "    forecast = model_fit.forecast(steps=periods)\n",
    "    return pizza_type, forecast.tolist()\n",
    "\n",
    "# Forecasting next week's sales for each pizza type using ARIMA\n",
    "def forecast_next_week_sales_by_pizza_type_arima(pizza_sales_weekly_by_pizza, periods=1):\n",
    "    pizza_type_forecasts = {}\n",
    "\n",
    "    # Total sales per pizza type\n",
    "    total_units_sold = pizza_sales_weekly_by_pizza.groupby('pizza_name_id')['quantity'].sum()\n",
    "\n",
    "    # Last week in the dataset\n",
    "    last_week = pizza_sales_weekly_by_pizza.index.max()\n",
    "    next_week_start = last_week + pd.Timedelta(weeks=1)\n",
    "    next_week_end = next_week_start + pd.Timedelta(days=6)\n",
    "\n",
    "    # Looping through each pizza type\n",
    "    for pizza_type in pizza_sales_weekly_by_pizza['pizza_name_id'].unique():\n",
    "        pizza_type_data = pizza_sales_weekly_by_pizza[pizza_sales_weekly_by_pizza['pizza_name_id'] == pizza_type]\n",
    "\n",
    "        # train test split\n",
    "        train_size = int(0.8 * len(pizza_type_data))\n",
    "        train = pizza_type_data[:train_size]['quantity']\n",
    "\n",
    "        # Forecast sales using ARIMA\n",
    "        pizza_type, forecast = forecast_sales_per_pizza_type_arima(pizza_type, train, periods)\n",
    "\n",
    "        if forecast is not None:\n",
    "            pizza_type_forecasts[pizza_type] = forecast\n",
    "        else:\n",
    "            print(f\"Forecast failed for pizza type: {pizza_type}\")\n",
    "\n",
    "    return pizza_type_forecasts, total_units_sold, next_week_start, next_week_end\n",
    "\n",
    "# Forecasting pizza sales for the next week using ARIMA\n",
    "next_week_pizza_sales_forecasts_arima, total_units_sold, next_week_start, next_week_end = forecast_next_week_sales_by_pizza_type_arima(pizza_sales_weekly_by_pizza, periods=1)\n",
    "\n",
    "# Displaying the forecasted sales for each pizza type and the total quantity of units sold in the predicted week\n",
    "print(f\"Forecasted sales for the week {next_week_start.date()} to {next_week_end.date()}:\")\n",
    "total_forecasted_quantity = 0\n",
    "\n",
    "for pizza_type, forecast in next_week_pizza_sales_forecasts_arima.items():\n",
    "    forecast = int(forecast[0])\n",
    "    next_week_pizza_sales_forecasts_arima[pizza_type]=forecast\n",
    "    print(f'{pizza_type}: {forecast} pizzas')\n",
    "    total_forecasted_quantity += forecast\n",
    "\n",
    "print(f\"Total quantity of units sold in the predicted week: {total_forecasted_quantity} pizzas\")"
   ]
  },
  {
   "cell_type": "markdown",
   "id": "2cca4083",
   "metadata": {},
   "source": [
    "# 3. MODEL EVALUATION"
   ]
  },
  {
   "cell_type": "code",
   "execution_count": 19,
   "id": "77498cd1",
   "metadata": {},
   "outputs": [
    {
     "data": {
      "text/html": [
       "<div>\n",
       "<style scoped>\n",
       "    .dataframe tbody tr th:only-of-type {\n",
       "        vertical-align: middle;\n",
       "    }\n",
       "\n",
       "    .dataframe tbody tr th {\n",
       "        vertical-align: top;\n",
       "    }\n",
       "\n",
       "    .dataframe thead th {\n",
       "        text-align: right;\n",
       "    }\n",
       "</style>\n",
       "<table border=\"1\" class=\"dataframe\">\n",
       "  <thead>\n",
       "    <tr style=\"text-align: right;\">\n",
       "      <th></th>\n",
       "      <th>Model</th>\n",
       "      <th>MAPE</th>\n",
       "      <th>Rank</th>\n",
       "      <th>Best/Worst</th>\n",
       "    </tr>\n",
       "  </thead>\n",
       "  <tbody>\n",
       "    <tr>\n",
       "      <th>0</th>\n",
       "      <td>ARIMA</td>\n",
       "      <td>0.1976</td>\n",
       "      <td>1.0</td>\n",
       "      <td>Best</td>\n",
       "    </tr>\n",
       "    <tr>\n",
       "      <th>2</th>\n",
       "      <td>Prophet</td>\n",
       "      <td>0.2163</td>\n",
       "      <td>2.0</td>\n",
       "      <td></td>\n",
       "    </tr>\n",
       "    <tr>\n",
       "      <th>1</th>\n",
       "      <td>SARIMA</td>\n",
       "      <td>0.2327</td>\n",
       "      <td>3.0</td>\n",
       "      <td></td>\n",
       "    </tr>\n",
       "    <tr>\n",
       "      <th>3</th>\n",
       "      <td>LSTM</td>\n",
       "      <td>0.2341</td>\n",
       "      <td>4.0</td>\n",
       "      <td>Worst</td>\n",
       "    </tr>\n",
       "  </tbody>\n",
       "</table>\n",
       "</div>"
      ],
      "text/plain": [
       "     Model    MAPE  Rank Best/Worst\n",
       "0    ARIMA  0.1976   1.0       Best\n",
       "2  Prophet  0.2163   2.0           \n",
       "1   SARIMA  0.2327   3.0           \n",
       "3     LSTM  0.2341   4.0      Worst"
      ]
     },
     "execution_count": 19,
     "metadata": {},
     "output_type": "execute_result"
    }
   ],
   "source": [
    "model_performance = {\n",
    "    'Model': ['ARIMA', 'SARIMA','Prophet','LSTM'],\n",
    "    'MAPE': [0.1976, 0.2327,0.2163,0.2341]\n",
    "}\n",
    "\n",
    "df_performance = pd.DataFrame(model_performance)\n",
    "\n",
    "#shwoing which model best\n",
    "df_performance['Rank'] = df_performance['MAPE'].rank()\n",
    "df_performance = df_performance.sort_values('MAPE', ascending=True)\n",
    "df_performance['Best/Worst'] = df_performance['MAPE'].apply(lambda x: 'Best' if x == df_performance['MAPE'].min() else 'Worst' if x == df_performance['MAPE'].max() else '')\n",
    "df_performance"
   ]
  },
  {
   "cell_type": "code",
   "execution_count": 20,
   "id": "4a7d5d8a",
   "metadata": {},
   "outputs": [
    {
     "data": {
      "image/png": "[encoded data removed]",
      "text/plain": [
       "<Figure size 720x432 with 1 Axes>"
      ]
     },
     "metadata": {
      "needs_background": "light"
     },
     "output_type": "display_data"
    }
   ],
   "source": [
    "# Visualization and Highlighting the best and worst models\n",
    "models = ['ARIMA','Prophet','SARIMA', 'LSTM']\n",
    "mapes = [0.1976,0.2163, 0.2327,0.2341]\n",
    "\n",
    "plt.figure(figsize=(10,6))\n",
    "plt.bar(models, mapes, color=['green','orange', 'orange','red'])\n",
    "plt.title('Model MAPE Comparison', fontsize=14)\n",
    "plt.xlabel('Models', fontsize=12)\n",
    "plt.ylabel('MAPE', fontsize=12)\n",
    "\n",
    "for i, v in enumerate(mapes):\n",
    "    plt.text(i, v + 0.005, f'{v:.4f}', ha='center' ,fontweight='bold')\n",
    "\n",
    "plt.show()"
   ]
  },
  {
   "cell_type": "markdown",
   "id": "1cd4f043",
   "metadata": {},
   "source": [
    "# 4. HYPERPARAMETER OPTIMIZATION FOR THE BEST-PERFORMING ARIMA MODEL"
   ]
  },
  {
   "cell_type": "code",
   "execution_count": 21,
   "id": "5920bbf9",
   "metadata": {},
   "outputs": [
    {
     "name": "stdout",
     "output_type": "stream",
     "text": [
      "Performing stepwise search to minimize aic\n",
      " ARIMA(2,0,2)(1,0,1)[7] intercept   : AIC=inf, Time=1.23 sec\n",
      " ARIMA(0,0,0)(0,0,0)[7] intercept   : AIC=615.080, Time=0.04 sec\n",
      " ARIMA(1,0,0)(1,0,0)[7] intercept   : AIC=617.452, Time=0.57 sec\n",
      " ARIMA(0,0,1)(0,0,1)[7] intercept   : AIC=inf, Time=0.40 sec\n",
      " ARIMA(0,0,0)(0,0,0)[7]             : AIC=811.016, Time=0.04 sec\n",
      " ARIMA(0,0,0)(1,0,0)[7] intercept   : AIC=617.078, Time=0.19 sec\n",
      " ARIMA(0,0,0)(0,0,1)[7] intercept   : AIC=616.488, Time=0.25 sec\n",
      " ARIMA(0,0,0)(1,0,1)[7] intercept   : AIC=inf, Time=0.15 sec\n",
      " ARIMA(1,0,0)(0,0,0)[7] intercept   : AIC=615.448, Time=0.19 sec\n",
      " ARIMA(0,0,1)(0,0,0)[7] intercept   : AIC=615.026, Time=0.20 sec\n",
      " ARIMA(0,0,1)(1,0,0)[7] intercept   : AIC=616.993, Time=0.58 sec\n",
      " ARIMA(0,0,1)(1,0,1)[7] intercept   : AIC=inf, Time=0.72 sec\n",
      " ARIMA(1,0,1)(0,0,0)[7] intercept   : AIC=617.164, Time=0.24 sec\n",
      " ARIMA(0,0,2)(0,0,0)[7] intercept   : AIC=617.003, Time=0.28 sec\n",
      " ARIMA(1,0,2)(0,0,0)[7] intercept   : AIC=619.023, Time=0.31 sec\n",
      " ARIMA(0,0,1)(0,0,0)[7]             : AIC=inf, Time=0.14 sec\n",
      "\n",
      "Best model:  ARIMA(0,0,1)(0,0,0)[7] intercept\n",
      "Total fit time: 5.576 seconds\n",
      "                               SARIMAX Results                                \n",
      "==============================================================================\n",
      "Dep. Variable:                      y   No. Observations:                   42\n",
      "Model:               SARIMAX(0, 0, 1)   Log Likelihood                -304.513\n",
      "Date:                Sun, 15 Dec 2024   AIC                            615.026\n",
      "Time:                        00:51:51   BIC                            620.239\n",
      "Sample:                    12-29-2014   HQIC                           616.937\n",
      "                         - 10-12-2015                                         \n",
      "Covariance Type:                  opg                                         \n",
      "==============================================================================\n",
      "                 coef    std err          z      P>|z|      [0.025      0.975]\n",
      "------------------------------------------------------------------------------\n",
      "intercept   3675.1437     58.265     63.077      0.000    3560.947    3789.340\n",
      "ma.L1         -0.2887      0.250     -1.155      0.248      -0.779       0.201\n",
      "sigma2      1.159e+05   1.98e+04      5.853      0.000    7.71e+04    1.55e+05\n",
      "===================================================================================\n",
      "Ljung-Box (L1) (Q):                   0.45   Jarque-Bera (JB):                98.52\n",
      "Prob(Q):                              0.50   Prob(JB):                         0.00\n",
      "Heteroskedasticity (H):               0.74   Skew:                            -2.19\n",
      "Prob(H) (two-sided):                  0.58   Kurtosis:                         9.10\n",
      "===================================================================================\n",
      "\n",
      "Warnings:\n",
      "[1] Covariance matrix calculated using the outer product of gradients (complex-step).\n"
     ]
    }
   ],
   "source": [
    "# Ensure order_date is the index\n",
    "train.set_index('order_date', inplace=True)\n",
    "\n",
    "# Passing only the 'quantity' column to auto_arima\n",
    "auto_model = auto_arima(\n",
    "    train['quantity'],# Providing univariate time series\n",
    "    seasonal=True, \n",
    "    m=7,  # Weekly seasonality\n",
    "    trace=True, \n",
    "    error_action='ignore', #Ignores errors from invalid parameter combinations\n",
    "    suppress_warnings=True\n",
    ")\n",
    "print(auto_model.summary())"
   ]
  },
  {
   "cell_type": "markdown",
   "id": "c7d7a5c2",
   "metadata": {},
   "source": [
    "# 5. MODEL SAVING WITH PICKLE"
   ]
  },
  {
   "cell_type": "code",
   "execution_count": 22,
   "id": "7bfc9f1b",
   "metadata": {},
   "outputs": [
    {
     "name": "stdout",
     "output_type": "stream",
     "text": [
      "Model saved as best_arima_model.pkl\n"
     ]
    }
   ],
   "source": [
    "model_filename = 'best_arima_model.pkl'\n",
    "with open(model_filename, 'wb') as file:\n",
    "    pickle.dump(auto_model, file)\n",
    "print(f\"Model saved as {model_filename}\")"
   ]
  },
  {
   "cell_type": "markdown",
   "id": "25ef5144",
   "metadata": {},
   "source": [
    "# 6. FINAL RESULTS & PREDICTION"
   ]
  },
  {
   "cell_type": "code",
   "execution_count": 23,
   "id": "74c65020",
   "metadata": {},
   "outputs": [
    {
     "name": "stdout",
     "output_type": "stream",
     "text": [
      "2015-10-19    3557.455865\n",
      "2015-10-26    3675.143723\n",
      "2015-11-02    3675.143723\n",
      "2015-11-09    3675.143723\n",
      "2015-11-16    3675.143723\n",
      "Freq: W-MON, dtype: float64\n"
     ]
    }
   ],
   "source": [
    "model_filename = 'best_arima_model.pkl'\n",
    "with open(model_filename, 'rb') as file:\n",
    "    loaded_model = pickle.load(file)\n",
    "\n",
    "# Forecasting function to predict weekly sales quantity\n",
    "def forecast_sales(loaded_model, periods):\n",
    "    forecast = loaded_model.predict(n_periods=periods)\n",
    "    return forecast\n",
    "\n",
    "forecasted_sales = forecast_sales(loaded_model, periods=5)\n",
    "print(forecasted_sales)"
   ]
  },
  {
   "cell_type": "markdown",
   "id": "7a773241",
   "metadata": {},
   "source": [
    "# 7. FORECASTING REPORT VISUALIZATION"
   ]
  },
  {
   "cell_type": "code",
   "execution_count": 24,
   "id": "06281dce",
   "metadata": {},
   "outputs": [
    {
     "data": {
      "image/png": "[encoded data removed]",
      "text/plain": [
       "<Figure size 864x432 with 1 Axes>"
      ]
     },
     "metadata": {
      "needs_background": "light"
     },
     "output_type": "display_data"
    }
   ],
   "source": [
    "import pandas as pd\n",
    "import matplotlib.pyplot as plt\n",
    "import pickle\n",
    "\n",
    "# Load the best model\n",
    "with open(r\"C:\\Users\\Lenovo\\best_arima_model.pkl\", 'rb') as file:\n",
    "    best_model = pickle.load(file)\n",
    "\n",
    "# Forecasting the data\n",
    "n_forecast = 7\n",
    "forecast = best_model.predict(n_periods=n_forecast)\n",
    "\n",
    "# Ensure 'train' is a pandas Series with a DateTimeIndex\n",
    "train = train.squeeze()  # Ensure it's a Series if 'train' is a DataFrame with one column\n",
    "\n",
    "# Generate future dates for the forecast\n",
    "forecast_dates = pd.date_range(start=train.index[-1] + pd.Timedelta(days=1), periods=n_forecast)\n",
    "\n",
    "# Plotting\n",
    "plt.figure(figsize=(12, 6))\n",
    "plt.plot(train.index, train.values, label='Training Data')\n",
    "plt.plot(forecast_dates, forecast, label='Forecast', color='orange')\n",
    "plt.title('Sales Forecast using SARIMA')\n",
    "plt.xlabel('Date')\n",
    "plt.ylabel('Sales')\n",
    "plt.legend()\n",
    "plt.show()"
   ]
  },
  {
   "cell_type": "markdown",
   "id": "c9fc8cf3",
   "metadata": {},
   "source": [
    "# 8. PREDICTED INGREDIENT QUANTITY CALCULATION AND DISPLAY"
   ]
  },
  {
   "cell_type": "markdown",
   "id": "d056a749",
   "metadata": {},
   "source": [
    "# 8.1. Ingredient Quantity Calculation"
   ]
  },
  {
   "cell_type": "code",
   "execution_count": 25,
   "id": "82202b36",
   "metadata": {},
   "outputs": [],
   "source": [
    "Ingredients_dataset=pd.read_excel(r\"C:\\Users\\Lenovo\\project 5\\Pizza_ingredients.xlsx\")"
   ]
  },
  {
   "cell_type": "code",
   "execution_count": 26,
   "id": "43fa7712",
   "metadata": {},
   "outputs": [
    {
     "name": "stdout",
     "output_type": "stream",
     "text": [
      "Total quantity of predicted ingredients for the following week:\n",
      "{'cheese': 520, 'pepperoni': 120, 'tomato': 330}\n"
     ]
    }
   ],
   "source": [
    "import pandas as pd\n",
    "\n",
    "# Example DataFrame definition\n",
    "data = {\n",
    "    'pizza_ingredients': ['cheese', 'tomato', 'cheese', 'pepperoni', 'tomato', 'cheese'],\n",
    "    'total_ingredient_qty': [100, 150, 200, 120, 180, 220]\n",
    "}\n",
    "ingredients_predicted = pd.DataFrame(data)\n",
    "\n",
    "# Sum of the quantities for each ingredient\n",
    "ingredient_totals = ingredients_predicted.groupby('pizza_ingredients')['total_ingredient_qty'].sum().to_dict()\n",
    "print(\"Total quantity of predicted ingredients for the following week:\")\n",
    "print(ingredient_totals)\n"
   ]
  },
  {
   "cell_type": "code",
   "execution_count": 27,
   "id": "f0b1e95a",
   "metadata": {},
   "outputs": [
    {
     "data": {
      "text/html": [
       "<div>\n",
       "<style scoped>\n",
       "    .dataframe tbody tr th:only-of-type {\n",
       "        vertical-align: middle;\n",
       "    }\n",
       "\n",
       "    .dataframe tbody tr th {\n",
       "        vertical-align: top;\n",
       "    }\n",
       "\n",
       "    .dataframe thead th {\n",
       "        text-align: right;\n",
       "    }\n",
       "</style>\n",
       "<table border=\"1\" class=\"dataframe\">\n",
       "  <thead>\n",
       "    <tr style=\"text-align: right;\">\n",
       "      <th></th>\n",
       "      <th>pizza_name_id</th>\n",
       "      <th>pizza_name</th>\n",
       "      <th>pizza_ingredients</th>\n",
       "      <th>Items_Qty_In_Grams</th>\n",
       "      <th>predicted_quantity</th>\n",
       "      <th>total_ingredient_qty</th>\n",
       "    </tr>\n",
       "  </thead>\n",
       "  <tbody>\n",
       "    <tr>\n",
       "      <th>0</th>\n",
       "      <td>bbq_ckn_l</td>\n",
       "      <td>The Barbecue Chicken Pizza</td>\n",
       "      <td>Barbecued Chicken</td>\n",
       "      <td>40.0</td>\n",
       "      <td>96</td>\n",
       "      <td>3840.0</td>\n",
       "    </tr>\n",
       "    <tr>\n",
       "      <th>1</th>\n",
       "      <td>bbq_ckn_l</td>\n",
       "      <td>The Barbecue Chicken Pizza</td>\n",
       "      <td>Red Peppers</td>\n",
       "      <td>15.0</td>\n",
       "      <td>96</td>\n",
       "      <td>1440.0</td>\n",
       "    </tr>\n",
       "    <tr>\n",
       "      <th>2</th>\n",
       "      <td>bbq_ckn_l</td>\n",
       "      <td>The Barbecue Chicken Pizza</td>\n",
       "      <td>Green Peppers</td>\n",
       "      <td>20.0</td>\n",
       "      <td>96</td>\n",
       "      <td>1920.0</td>\n",
       "    </tr>\n",
       "    <tr>\n",
       "      <th>3</th>\n",
       "      <td>bbq_ckn_l</td>\n",
       "      <td>The Barbecue Chicken Pizza</td>\n",
       "      <td>Tomatoes</td>\n",
       "      <td>30.0</td>\n",
       "      <td>96</td>\n",
       "      <td>2880.0</td>\n",
       "    </tr>\n",
       "    <tr>\n",
       "      <th>4</th>\n",
       "      <td>bbq_ckn_l</td>\n",
       "      <td>The Barbecue Chicken Pizza</td>\n",
       "      <td>Red Onions</td>\n",
       "      <td>60.0</td>\n",
       "      <td>96</td>\n",
       "      <td>5760.0</td>\n",
       "    </tr>\n",
       "  </tbody>\n",
       "</table>\n",
       "</div>"
      ],
      "text/plain": [
       "  pizza_name_id                  pizza_name  pizza_ingredients  \\\n",
       "0     bbq_ckn_l  The Barbecue Chicken Pizza  Barbecued Chicken   \n",
       "1     bbq_ckn_l  The Barbecue Chicken Pizza        Red Peppers   \n",
       "2     bbq_ckn_l  The Barbecue Chicken Pizza      Green Peppers   \n",
       "3     bbq_ckn_l  The Barbecue Chicken Pizza           Tomatoes   \n",
       "4     bbq_ckn_l  The Barbecue Chicken Pizza         Red Onions   \n",
       "\n",
       "   Items_Qty_In_Grams  predicted_quantity  total_ingredient_qty  \n",
       "0                40.0                  96                3840.0  \n",
       "1                15.0                  96                1440.0  \n",
       "2                20.0                  96                1920.0  \n",
       "3                30.0                  96                2880.0  \n",
       "4                60.0                  96                5760.0  "
      ]
     },
     "execution_count": 27,
     "metadata": {},
     "output_type": "execute_result"
    }
   ],
   "source": [
    "# Copy ingredients, map predicted sales, and calculateing the total ingredient quantity\n",
    "ingredients_predicted = Ingredients_dataset.copy()\n",
    "ingredients_predicted['predicted_quantity'] = ingredients_predicted['pizza_name_id'].map(next_week_pizza_sales_forecasts_arima)\n",
    "ingredients_predicted['total_ingredient_qty'] = ingredients_predicted['Items_Qty_In_Grams'] * ingredients_predicted['predicted_quantity']\n",
    "ingredients_predicted.head()"
   ]
  },
  {
   "cell_type": "code",
   "execution_count": 28,
   "id": "b504e01a",
   "metadata": {},
   "outputs": [
    {
     "name": "stdout",
     "output_type": "stream",
     "text": [
      "Total quantity of predicted ingredients for the following week:\n"
     ]
    },
    {
     "data": {
      "text/plain": [
       "{'?duja Salami': 2860.0,\n",
       " 'Alfredo Sauce': 1420.0,\n",
       " 'Anchovies': 3300.0,\n",
       " 'Artichokes': 11190.0,\n",
       " 'Arugula': 695.0,\n",
       " 'Asiago Cheese': 6190.0,\n",
       " 'Bacon': 28880.0,\n",
       " 'Barbecue Sauce': 2445.0,\n",
       " 'Barbecued Chicken': 6990.0,\n",
       " 'Beef Chuck Roast': 12820.0,\n",
       " 'Blue Cheese': 1620.0,\n",
       " 'Brie Carre Cheese': 1110.0,\n",
       " 'Calabrese Salami': 15600.0,\n",
       " 'Capocollo': 63300.0,\n",
       " 'Caramelized Onions': 0.0,\n",
       " 'Chicken': 84400.0,\n",
       " 'Chipotle Sauce': 6980.0,\n",
       " 'Chorizo Sausage': 5450.0,\n",
       " 'Cilantro': 3490.0,\n",
       " 'Coarse Sicilian Salami': 11000.0,\n",
       " 'Corn': 23390.0,\n",
       " 'Eggplant': 2620.0,\n",
       " 'Feta Cheese': 10700.0,\n",
       " 'Fontina Cheese': 6690.0,\n",
       " 'Friggitello Peppers': 715.0,\n",
       " 'Garlic': 24745.0,\n",
       " 'Genoa Salami': 8040.0,\n",
       " 'Goat Cheese': 13720.0,\n",
       " 'Gorgonzola Piccante Cheese': 5680.0,\n",
       " 'Gouda Cheese': 5070.0,\n",
       " 'Green Olives': 4735.0,\n",
       " 'Green Peppers': 7040.0,\n",
       " 'Italian Sausage': 1090.0,\n",
       " 'Jalapeno Peppers': 6025.0,\n",
       " 'Kalamata Olives': 3405.0,\n",
       " 'Luganega Sausage': 5500.0,\n",
       " 'Mozzarella Cheese': 11990.0,\n",
       " 'Mushrooms': 26900.0,\n",
       " 'Onions': 2750.0,\n",
       " 'Oregano': 1305.0,\n",
       " 'Pancetta': 4290.0,\n",
       " 'Parmigiano Reggiano Cheese': 13440.0,\n",
       " 'Pears': 370.0,\n",
       " 'Peperoncini verdi': 2125.0,\n",
       " 'Pepperoni': 24710.0,\n",
       " 'Pesto Sauce': 4140.0,\n",
       " 'Pineapple': 10395.0,\n",
       " 'Plum Tomatoes': 3560.0,\n",
       " 'Prosciutto': 1110.0,\n",
       " 'Prosciutto di San Daniele': 1640.0,\n",
       " 'Provolone Cheese': 1620.0,\n",
       " 'Red Onions': 70660.0,\n",
       " 'Red Peppers': 14565.0,\n",
       " 'Ricotta Cheese': 7100.0,\n",
       " 'Romano Cheese': 1620.0,\n",
       " 'Sliced Ham': 0.0,\n",
       " 'Smoked Gouda Cheese': 1620.0,\n",
       " 'Soppressata Salami': 8100.0,\n",
       " 'Spinach': 26505.0,\n",
       " 'Sun-dried Tomatoes': 1570.0,\n",
       " 'Thai Sweet Chilli Sauce': 4260.0,\n",
       " 'Thyme': 185.0,\n",
       " 'Tomatoes': 48750.0,\n",
       " 'Zucchini': 4320.0}"
      ]
     },
     "execution_count": 28,
     "metadata": {},
     "output_type": "execute_result"
    }
   ],
   "source": [
    "# Sum of the quantities for each ingredient\n",
    "ingredient_totals = ingredients_predicted.groupby('pizza_ingredients')['total_ingredient_qty'].sum().to_dict()\n",
    "print(\"Total quantity of predicted ingredients for the following week:\")\n",
    "ingredient_totals"
   ]
  },
  {
   "cell_type": "code",
   "execution_count": 29,
   "id": "61a6199d",
   "metadata": {},
   "outputs": [],
   "source": [
    "# dict into a Pandas DataFrame\n",
    "ingredient_df = pd.DataFrame(list(ingredient_totals.items()), columns=['Ingredient', 'Total Quantity (grams)'])"
   ]
  },
  {
   "cell_type": "code",
   "execution_count": 30,
   "id": "09e3e9ec",
   "metadata": {},
   "outputs": [
    {
     "data": {
      "text/html": [
       "<div>\n",
       "<style scoped>\n",
       "    .dataframe tbody tr th:only-of-type {\n",
       "        vertical-align: middle;\n",
       "    }\n",
       "\n",
       "    .dataframe tbody tr th {\n",
       "        vertical-align: top;\n",
       "    }\n",
       "\n",
       "    .dataframe thead th {\n",
       "        text-align: right;\n",
       "    }\n",
       "</style>\n",
       "<table border=\"1\" class=\"dataframe\">\n",
       "  <thead>\n",
       "    <tr style=\"text-align: right;\">\n",
       "      <th></th>\n",
       "      <th>Ingredient</th>\n",
       "      <th>Total Quantity (grams)</th>\n",
       "    </tr>\n",
       "  </thead>\n",
       "  <tbody>\n",
       "    <tr>\n",
       "      <th>0</th>\n",
       "      <td>?duja Salami</td>\n",
       "      <td>2860.0</td>\n",
       "    </tr>\n",
       "    <tr>\n",
       "      <th>1</th>\n",
       "      <td>Alfredo Sauce</td>\n",
       "      <td>1420.0</td>\n",
       "    </tr>\n",
       "    <tr>\n",
       "      <th>2</th>\n",
       "      <td>Anchovies</td>\n",
       "      <td>3300.0</td>\n",
       "    </tr>\n",
       "    <tr>\n",
       "      <th>3</th>\n",
       "      <td>Artichokes</td>\n",
       "      <td>11190.0</td>\n",
       "    </tr>\n",
       "    <tr>\n",
       "      <th>4</th>\n",
       "      <td>Arugula</td>\n",
       "      <td>695.0</td>\n",
       "    </tr>\n",
       "    <tr>\n",
       "      <th>...</th>\n",
       "      <td>...</td>\n",
       "      <td>...</td>\n",
       "    </tr>\n",
       "    <tr>\n",
       "      <th>59</th>\n",
       "      <td>Sun-dried Tomatoes</td>\n",
       "      <td>1570.0</td>\n",
       "    </tr>\n",
       "    <tr>\n",
       "      <th>60</th>\n",
       "      <td>Thai Sweet Chilli Sauce</td>\n",
       "      <td>4260.0</td>\n",
       "    </tr>\n",
       "    <tr>\n",
       "      <th>61</th>\n",
       "      <td>Thyme</td>\n",
       "      <td>185.0</td>\n",
       "    </tr>\n",
       "    <tr>\n",
       "      <th>62</th>\n",
       "      <td>Tomatoes</td>\n",
       "      <td>48750.0</td>\n",
       "    </tr>\n",
       "    <tr>\n",
       "      <th>63</th>\n",
       "      <td>Zucchini</td>\n",
       "      <td>4320.0</td>\n",
       "    </tr>\n",
       "  </tbody>\n",
       "</table>\n",
       "<p>64 rows × 2 columns</p>\n",
       "</div>"
      ],
      "text/plain": [
       "                 Ingredient  Total Quantity (grams)\n",
       "0              ?duja Salami                  2860.0\n",
       "1             Alfredo Sauce                  1420.0\n",
       "2                 Anchovies                  3300.0\n",
       "3                Artichokes                 11190.0\n",
       "4                   Arugula                   695.0\n",
       "..                      ...                     ...\n",
       "59       Sun-dried Tomatoes                  1570.0\n",
       "60  Thai Sweet Chilli Sauce                  4260.0\n",
       "61                    Thyme                   185.0\n",
       "62                 Tomatoes                 48750.0\n",
       "63                 Zucchini                  4320.0\n",
       "\n",
       "[64 rows x 2 columns]"
      ]
     },
     "execution_count": 30,
     "metadata": {},
     "output_type": "execute_result"
    }
   ],
   "source": [
    "ingredient_df"
   ]
  },
  {
   "cell_type": "markdown",
   "id": "0eb8f83f",
   "metadata": {},
   "source": [
    "# 8.2. Visualizing the Total Tuantities of Ingredients with Data Points"
   ]
  },
  {
   "cell_type": "code",
   "execution_count": 31,
   "id": "f3bd75a6",
   "metadata": {},
   "outputs": [
    {
     "data": {
      "image/png": "[encoded data removed]",
      "text/plain": [
       "<Figure size 864x576 with 1 Axes>"
      ]
     },
     "metadata": {
      "needs_background": "light"
     },
     "output_type": "display_data"
    }
   ],
   "source": [
    "plt.figure(figsize=(12, 8))\n",
    "top_ingredients = ingredient_df.nlargest(15, 'Total Quantity (grams)')\n",
    "\n",
    "# Plotting with data points\n",
    "plt.plot(top_ingredients['Ingredient'], top_ingredients['Total Quantity (grams)'], marker='o', color='b', linestyle='-', label='Total Quantity (grams)')\n",
    "plt.fill_between(top_ingredients['Ingredient'], top_ingredients['Total Quantity (grams)'], alpha=0.3)\n",
    "plt.title('Top 15 Predicted Ingredients for Next Week with Data Points')\n",
    "plt.ylabel('Total Quantity (grams)')\n",
    "plt.xticks(rotation=45)\n",
    "plt.legend()\n",
    "plt.show()"
   ]
  },
  {
   "cell_type": "markdown",
   "id": "6b571aab",
   "metadata": {},
   "source": [
    "# 8.3. Saving the Ingredients Total to a DF"
   ]
  },
  {
   "cell_type": "code",
   "execution_count": 32,
   "id": "a0a28924",
   "metadata": {},
   "outputs": [
    {
     "name": "stdout",
     "output_type": "stream",
     "text": [
      "Predicted ingredient totals saved to 'predicted_ingredient_totals.csv'\n"
     ]
    }
   ],
   "source": [
    "ingredient_df = pd.DataFrame(ingredient_totals.items(), columns=['Ingredient', 'Total Quantity (grams)'])\n",
    "ingredient_df.to_csv('predicted_ingredient_totals.csv', index=False)\n",
    "print(\"Predicted ingredient totals saved to 'predicted_ingredient_totals.csv'\")"
   ]
  },
  {
   "cell_type": "code",
   "execution_count": 33,
   "id": "333cdbf5",
   "metadata": {},
   "outputs": [
    {
     "data": {
      "text/html": [
       "<div>\n",
       "<style scoped>\n",
       "    .dataframe tbody tr th:only-of-type {\n",
       "        vertical-align: middle;\n",
       "    }\n",
       "\n",
       "    .dataframe tbody tr th {\n",
       "        vertical-align: top;\n",
       "    }\n",
       "\n",
       "    .dataframe thead th {\n",
       "        text-align: right;\n",
       "    }\n",
       "</style>\n",
       "<table border=\"1\" class=\"dataframe\">\n",
       "  <thead>\n",
       "    <tr style=\"text-align: right;\">\n",
       "      <th></th>\n",
       "      <th>Ingredient</th>\n",
       "      <th>Total Quantity (grams)</th>\n",
       "    </tr>\n",
       "  </thead>\n",
       "  <tbody>\n",
       "    <tr>\n",
       "      <th>0</th>\n",
       "      <td>?duja Salami</td>\n",
       "      <td>2860.0</td>\n",
       "    </tr>\n",
       "    <tr>\n",
       "      <th>1</th>\n",
       "      <td>Alfredo Sauce</td>\n",
       "      <td>1420.0</td>\n",
       "    </tr>\n",
       "    <tr>\n",
       "      <th>2</th>\n",
       "      <td>Anchovies</td>\n",
       "      <td>3300.0</td>\n",
       "    </tr>\n",
       "    <tr>\n",
       "      <th>3</th>\n",
       "      <td>Artichokes</td>\n",
       "      <td>11190.0</td>\n",
       "    </tr>\n",
       "    <tr>\n",
       "      <th>4</th>\n",
       "      <td>Arugula</td>\n",
       "      <td>695.0</td>\n",
       "    </tr>\n",
       "    <tr>\n",
       "      <th>...</th>\n",
       "      <td>...</td>\n",
       "      <td>...</td>\n",
       "    </tr>\n",
       "    <tr>\n",
       "      <th>59</th>\n",
       "      <td>Sun-dried Tomatoes</td>\n",
       "      <td>1570.0</td>\n",
       "    </tr>\n",
       "    <tr>\n",
       "      <th>60</th>\n",
       "      <td>Thai Sweet Chilli Sauce</td>\n",
       "      <td>4260.0</td>\n",
       "    </tr>\n",
       "    <tr>\n",
       "      <th>61</th>\n",
       "      <td>Thyme</td>\n",
       "      <td>185.0</td>\n",
       "    </tr>\n",
       "    <tr>\n",
       "      <th>62</th>\n",
       "      <td>Tomatoes</td>\n",
       "      <td>48750.0</td>\n",
       "    </tr>\n",
       "    <tr>\n",
       "      <th>63</th>\n",
       "      <td>Zucchini</td>\n",
       "      <td>4320.0</td>\n",
       "    </tr>\n",
       "  </tbody>\n",
       "</table>\n",
       "<p>64 rows × 2 columns</p>\n",
       "</div>"
      ],
      "text/plain": [
       "                 Ingredient  Total Quantity (grams)\n",
       "0              ?duja Salami                  2860.0\n",
       "1             Alfredo Sauce                  1420.0\n",
       "2                 Anchovies                  3300.0\n",
       "3                Artichokes                 11190.0\n",
       "4                   Arugula                   695.0\n",
       "..                      ...                     ...\n",
       "59       Sun-dried Tomatoes                  1570.0\n",
       "60  Thai Sweet Chilli Sauce                  4260.0\n",
       "61                    Thyme                   185.0\n",
       "62                 Tomatoes                 48750.0\n",
       "63                 Zucchini                  4320.0\n",
       "\n",
       "[64 rows x 2 columns]"
      ]
     },
     "execution_count": 33,
     "metadata": {},
     "output_type": "execute_result"
    }
   ],
   "source": [
    "predicted_ingredient_totals = pd.read_csv('predicted_ingredient_totals.csv')\n",
    "predicted_ingredient_totals"
   ]
  }
 ],
 "metadata": {
  "kernelspec": {
   "display_name": "Python 3 (ipykernel)",
   "language": "python",
   "name": "python3"
  },
  "language_info": {
   "codemirror_mode": {
    "name": "ipython",
    "version": 3
   },
   "file_extension": ".py",
   "mimetype": "text/x-python",
   "name": "python",
   "nbconvert_exporter": "python",
   "pygments_lexer": "ipython3",
   "version": "3.9.12"
  }
 },
 "nbformat": 4,
 "nbformat_minor": 5
}
